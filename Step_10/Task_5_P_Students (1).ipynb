{
  "cells": [
    {
      "cell_type": "markdown",
      "metadata": {
        "id": "885nCnaEi6Zq"
      },
      "source": [
        "В этом задании мы рассмотрим работу UDpipe с двумя моделями:\n",
        "\n",
        "* предварительно обученной на SynTagRus [link](https://universaldependencies.org/treebanks/ru_syntagrus/index.html)\n",
        "* обученной на Taiga [link](https://universaldependencies.org/treebanks/ru_taiga/index.html)"
      ]
    },
    {
      "cell_type": "markdown",
      "metadata": {
        "id": "Xi3sqi2ni6Zw"
      },
      "source": [
        "## Подключение необходимых модулей"
      ]
    },
    {
      "cell_type": "code",
      "execution_count": 1,
      "metadata": {
        "colab": {
          "base_uri": "https://localhost:8080/"
        },
        "id": "pFELL0b6i6Zz",
        "outputId": "24f1b496-abdb-4bf4-a577-d4c977e7f271"
      },
      "outputs": [
        {
          "output_type": "stream",
          "name": "stdout",
          "text": [
            "\u001b[?25l     \u001b[90m━━━━━━━━━━━━━━━━━━━━━━━━━━━━━━━━━━━━━━━━\u001b[0m \u001b[32m0.0/937.2 KB\u001b[0m \u001b[31m?\u001b[0m eta \u001b[36m-:--:--\u001b[0m\r\u001b[2K     \u001b[91m━━━━━━━━━━━━━━━━━━━━━━━━━━━━━━━━━━━━━\u001b[0m\u001b[91m╸\u001b[0m \u001b[32m931.8/937.2 KB\u001b[0m \u001b[31m46.0 MB/s\u001b[0m eta \u001b[36m0:00:01\u001b[0m\r\u001b[2K     \u001b[90m━━━━━━━━━━━━━━━━━━━━━━━━━━━━━━━━━━━━━━\u001b[0m \u001b[32m937.2/937.2 KB\u001b[0m \u001b[31m24.9 MB/s\u001b[0m eta \u001b[36m0:00:00\u001b[0m\n",
            "\u001b[?25h"
          ]
        }
      ],
      "source": [
        "! pip install -q conllu\n",
        "! pip install -q graphviz\n",
        "! pip install -q ufal.udpipe"
      ]
    },
    {
      "cell_type": "markdown",
      "metadata": {
        "id": "-w82dt3Ki6aJ"
      },
      "source": [
        "## Загрузка моделей"
      ]
    },
    {
      "cell_type": "code",
      "execution_count": 2,
      "metadata": {
        "id": "kDboaNgQi6aK"
      },
      "outputs": [],
      "source": [
        "!wget -q 'https://lindat.mff.cuni.cz/repository/xmlui/bitstream/handle/11234/1-3131/russian-syntagrus-ud-2.5-191206.udpipe'\n",
        "!wget -q 'https://lindat.mff.cuni.cz/repository/xmlui/bitstream/handle/11234/1-3131/russian-taiga-ud-2.5-191206.udpipe'"
      ]
    },
    {
      "cell_type": "markdown",
      "metadata": {
        "id": "05htpbLZi6as"
      },
      "source": [
        "На этом подготовка материалов завершена, переходим к написанию кода для синтаксического анализа"
      ]
    },
    {
      "cell_type": "markdown",
      "metadata": {
        "id": "4RfK9-zii6aw"
      },
      "source": [
        "## Подключение библиотек"
      ]
    },
    {
      "cell_type": "code",
      "execution_count": 3,
      "metadata": {
        "id": "dmf7LI_0i6ax"
      },
      "outputs": [],
      "source": [
        "import sys\n",
        "\n",
        "from conllu import parse\n",
        "from graphviz import Digraph\n",
        "from ufal.udpipe import Model, Pipeline, ProcessingError"
      ]
    },
    {
      "cell_type": "markdown",
      "metadata": {
        "id": "ufl9Rvugi6a3"
      },
      "source": [
        "## Настройка работы с моделями"
      ]
    },
    {
      "cell_type": "code",
      "execution_count": 4,
      "metadata": {
        "colab": {
          "base_uri": "https://localhost:8080/"
        },
        "id": "Rj7bbVu4i6a4",
        "outputId": "59ad27d7-7968-49c0-f45c-c4f18da75aca"
      },
      "outputs": [
        {
          "output_type": "stream",
          "name": "stdout",
          "text": [
            "Loading model:russian-syntagrus-ud-2.5-191206.udpipe\n",
            "Loading done\n",
            "Loading model:russian-taiga-ud-2.5-191206.udpipe\n",
            "Loading done\n"
          ]
        }
      ],
      "source": [
        "INPUT_FORMAT = \"tokenize\"\n",
        "OUTPUT_FORMAT = \"conllu\"\n",
        "SYNTAGRUS_MODEL_FILE = \"russian-syntagrus-ud-2.5-191206.udpipe\"\n",
        "TAIGA_MODEL_FILE = \"russian-taiga-ud-2.5-191206.udpipe\"\n",
        "\n",
        "print(\"Loading model:\" + SYNTAGRUS_MODEL_FILE)\n",
        "syntagrus_model = Model.load(SYNTAGRUS_MODEL_FILE)\n",
        "print(\"Loading done\")\n",
        "\n",
        "print(\"Loading model:\" + TAIGA_MODEL_FILE)\n",
        "taiga_model = Model.load(TAIGA_MODEL_FILE)\n",
        "print(\"Loading done\")"
      ]
    },
    {
      "cell_type": "markdown",
      "metadata": {
        "id": "eFV0w_Xmi6bA"
      },
      "source": [
        "## Построение цепочки обработки"
      ]
    },
    {
      "cell_type": "markdown",
      "metadata": {
        "id": "201ztaiki6bB"
      },
      "source": [
        "Строим цепочку обработки  -- от сырого текста до синтаксического дерева"
      ]
    },
    {
      "cell_type": "code",
      "execution_count": 53,
      "metadata": {
        "id": "NQxfMF_3i6bC"
      },
      "outputs": [],
      "source": [
        "syntagrus_pipeline = Pipeline(syntagrus_model, INPUT_FORMAT, \n",
        "                              Pipeline.DEFAULT, Pipeline.DEFAULT, OUTPUT_FORMAT)\n",
        "taiga_pipeline = Pipeline(taiga_model, INPUT_FORMAT, \n",
        "                          Pipeline.DEFAULT, Pipeline.DEFAULT, OUTPUT_FORMAT)\n",
        "\n",
        "error = ProcessingError()"
      ]
    },
    {
      "cell_type": "markdown",
      "metadata": {
        "id": "4rmXlR1ei6bI"
      },
      "source": [
        "Применение собственно цепочки обработки к сырому тексту; вывод в формате CoNLL-U."
      ]
    },
    {
      "cell_type": "code",
      "execution_count": 54,
      "metadata": {
        "id": "MJedzauNi6bJ"
      },
      "outputs": [],
      "source": [
        "def parse_syntax(raw_text, pipeline):\n",
        "    \"\"\" Applying UDPipe \"\"\"\n",
        "    text = raw_text.strip()\n",
        "\n",
        "    # Process data\n",
        "    processed = pipeline.process(text, error)\n",
        "\n",
        "    if error.occurred():\n",
        "        sys.stderr.write(\"An error occurred when running run_udpipe: \")\n",
        "        sys.stderr.write(error.message)\n",
        "        sys.stderr.write(\"\\n\")\n",
        "\n",
        "    return processed"
      ]
    },
    {
      "cell_type": "markdown",
      "metadata": {
        "id": "CHD7DOp3i6bP"
      },
      "source": [
        "Создадим два разбора, которые и будем сравнивать."
      ]
    },
    {
      "cell_type": "code",
      "execution_count": 34,
      "metadata": {
        "id": "svFDIXCli6bS"
      },
      "outputs": [],
      "source": [
        "syntag = parse_syntax(\"По сообщениям докторов, она реагирует на простые команды.\", syntagrus_pipeline)\n",
        "taiga = parse_syntax(\"По сообщениям докторов, она реагирует на простые команды.\", taiga_pipeline)"
      ]
    },
    {
      "cell_type": "code",
      "source": [
        "syntag = parse_syntax(\"• Лига чемпионов УЕФА / Кубок европейских чемпионов: 3\", syntagrus_pipeline)\n",
        "taiga = parse_syntax(\"• Лига чемпионов УЕФА / Кубок европейских чемпионов: 3\", taiga_pipeline)"
      ],
      "metadata": {
        "id": "LwX5VlKWpEm9"
      },
      "execution_count": 74,
      "outputs": []
    },
    {
      "cell_type": "code",
      "source": [
        "syntag = parse_syntax(\"А теория, которая не знает своих собственных границ, не имеет отношения к науке.\", syntagrus_pipeline)\n",
        "taiga = parse_syntax(\"А теория, которая не знает своих собственных границ, не имеет отношения к науке.\", taiga_pipeline)"
      ],
      "metadata": {
        "id": "VOmP_rafp6y1"
      },
      "execution_count": 26,
      "outputs": []
    },
    {
      "cell_type": "markdown",
      "metadata": {
        "id": "9JqN3OWvqbuV"
      },
      "source": [
        "Разбор предложения в текстовом виде будет выглядеть следующим образом:"
      ]
    },
    {
      "cell_type": "code",
      "execution_count": 75,
      "metadata": {
        "colab": {
          "base_uri": "https://localhost:8080/"
        },
        "id": "IciMoyh0qbuW",
        "outputId": "08c0cc21-6176-40d2-be5a-07797283efd8"
      },
      "outputs": [
        {
          "output_type": "stream",
          "name": "stdout",
          "text": [
            "# newdoc\n",
            "# newpar\n",
            "# sent_id = 1\n",
            "# text = • Лига чемпионов УЕФА / Кубок европейских чемпионов: 3\n",
            "1\t•\t•\tPUNCT\t_\t_\t2\tpunct\t_\t_\n",
            "2\tЛига\tЛиг\tNOUN\t_\tAnimacy=Inan|Case=Nom|Gender=Fem|Number=Sing\t10\tnsubj\t_\t_\n",
            "3\tчемпионов\tчемпион\tNOUN\tNOUN\tAnimacy=Inan|Case=Gen|Gender=Neut|Number=Plur\t2\tnmod\t_\t_\n",
            "4\tУЕФА\tУЕФА\tPROPN\t_\tAnimacy=Inan|Case=Gen|Gender=Fem|Number=Sing\t3\tnmod\t_\t_\n",
            "5\t/\t/\tADP\t_\t_\t6\tcase\t_\t_\n",
            "6\tКубок\tКубок\tNOUN\tNOUN\tAnimacy=Inan|Case=Gen|Gender=Fem|Number=Plur\t2\tnmod\t_\t_\n",
            "7\tевропейских\tевропейский\tADJ\t_\tCase=Gen|Degree=Pos|Number=Plur\t8\tamod\t_\t_\n",
            "8\tчемпионов\tчемпион\tNOUN\t_\tAnimacy=Inan|Case=Gen|Gender=Masc|Number=Plur\t6\tnmod\t_\tSpaceAfter=No\n",
            "9\t:\t:\tPUNCT\t_\t_\t2\tpunct\t_\t_\n",
            "10\t3\t3\tNUM\t_\t_\t0\troot\t_\tSpacesAfter=\\n\n",
            "\n",
            "\n"
          ]
        }
      ],
      "source": [
        "print(taiga)"
      ]
    },
    {
      "cell_type": "markdown",
      "metadata": {
        "id": "jYKnnwqVqbuZ"
      },
      "source": [
        "Понятно, что в таком виде производить расчеты не очень удобно. Для вычисления LAS и UAS сначала представим деревья разбора в виде графов."
      ]
    },
    {
      "cell_type": "markdown",
      "metadata": {
        "id": "LGkqQEi1qbua"
      },
      "source": [
        "## Графововое представление дерева разбора\n",
        "\n",
        "Методами библиотеки `conllu` превращаем выданный нам udpipe разбор в формате CoNLL-U в дерево, с которым удобно работать.\n",
        "\n",
        "С помощью стандартного обхода в ширину наполняем рёбрами объект Digraph для последующей визуализации дерева с помощью `graphviz`."
      ]
    },
    {
      "cell_type": "code",
      "execution_count": 76,
      "metadata": {
        "id": "jQ6zzoRni6bo"
      },
      "outputs": [],
      "source": [
        "from conllu import parse\n",
        "from graphviz import Digraph\n",
        "\n",
        "def parse_output(conll):\n",
        "    \"\"\"\n",
        "        Preparing the dependency tree for further processing\n",
        "    \"\"\"\n",
        "    sentences = parse(conll)\n",
        "    return [s.to_tree() for s  in sentences]\n",
        "\n",
        "\n",
        "class Root(object):\n",
        "  def __init__(self, child):\n",
        "    self.token = {\"form\": \"\", \"id\": 0, \"deprel\": \"root\"}\n",
        "    self.children = [child]\n",
        "\n",
        "def draw_tree(tree):\n",
        "    \"\"\" Drawing a dependency tree for debugging stuff \"\"\"\n",
        "\n",
        "    g = Digraph(format='png')\n",
        "\n",
        "    # a queue for tree traversal\n",
        "    queue = [Root(tree)]\n",
        "\n",
        "    while len(queue) > 0:\n",
        "      \n",
        "        head = queue.pop()\n",
        "        head_label = head.token[\"form\"] + \" (%d)\" % head.token[\"id\"]\n",
        "        queue.extend(head.children)\n",
        "\n",
        "        for c in head.children:\n",
        "            c_label = c.token[\"form\"] + \" (%d)\" %  c.token[\"id\"]\n",
        "            g.edge(head_label, c_label, label=c.token[\"deprel\"])\n",
        "\n",
        "    return g"
      ]
    },
    {
      "cell_type": "markdown",
      "metadata": {
        "id": "PGp5oQbUi6cQ"
      },
      "source": [
        "Построим оба дерева"
      ]
    },
    {
      "cell_type": "code",
      "execution_count": 77,
      "metadata": {
        "id": "woGZyXqCqbuf"
      },
      "outputs": [],
      "source": [
        "str_tree = parse_output(syntag.strip())[0]\n",
        "taiga_tree = parse_output(taiga.strip())[0]"
      ]
    },
    {
      "cell_type": "code",
      "execution_count": 78,
      "metadata": {
        "colab": {
          "base_uri": "https://localhost:8080/",
          "height": 793
        },
        "id": "ICivSE4eqbuh",
        "outputId": "4419c4ef-abc0-4131-be0e-63ed9b51451e"
      },
      "outputs": [
        {
          "output_type": "stream",
          "name": "stderr",
          "text": [
            "Warning: node , port  (9) unrecognized\n"
          ]
        },
        {
          "output_type": "execute_result",
          "data": {
            "text/plain": [
              "<graphviz.dot.Digraph at 0x7f0c42547dc0>"
            ],
            "image/svg+xml": "<?xml version=\"1.0\" encoding=\"UTF-8\" standalone=\"no\"?>\n<!DOCTYPE svg PUBLIC \"-//W3C//DTD SVG 1.1//EN\"\n \"http://www.w3.org/Graphics/SVG/1.1/DTD/svg11.dtd\">\n<!-- Generated by graphviz version 2.43.0 (0)\n -->\n<!-- Title: %3 Pages: 1 -->\n<svg width=\"366pt\" height=\"566pt\"\n viewBox=\"0.00 0.00 366.50 566.00\" xmlns=\"http://www.w3.org/2000/svg\" xmlns:xlink=\"http://www.w3.org/1999/xlink\">\n<g id=\"graph0\" class=\"graph\" transform=\"scale(1 1) rotate(0) translate(4 562)\">\n<title>%3</title>\n<polygon fill=\"white\" stroke=\"transparent\" points=\"-4,4 -4,-562 362.5,-562 362.5,4 -4,4\"/>\n<!--  (0) -->\n<g id=\"node1\" class=\"node\">\n<title> (0)</title>\n<ellipse fill=\"none\" stroke=\"black\" cx=\"221\" cy=\"-540\" rx=\"27\" ry=\"18\"/>\n<text text-anchor=\"middle\" x=\"221\" y=\"-536.3\" font-family=\"Times,serif\" font-size=\"14.00\"> (0)</text>\n</g>\n<!-- Лига (2) -->\n<g id=\"node2\" class=\"node\">\n<title>Лига (2)</title>\n<ellipse fill=\"none\" stroke=\"black\" cx=\"221\" cy=\"-453\" rx=\"42.49\" ry=\"18\"/>\n<text text-anchor=\"middle\" x=\"221\" y=\"-449.3\" font-family=\"Times,serif\" font-size=\"14.00\">Лига (2)</text>\n</g>\n<!--  (0)&#45;&gt;Лига (2) -->\n<g id=\"edge1\" class=\"edge\">\n<title> (0)&#45;&gt;Лига (2)</title>\n<path fill=\"none\" stroke=\"black\" d=\"M221,-521.8C221,-510.16 221,-494.55 221,-481.24\"/>\n<polygon fill=\"black\" stroke=\"black\" points=\"224.5,-481.18 221,-471.18 217.5,-481.18 224.5,-481.18\"/>\n<text text-anchor=\"middle\" x=\"232\" y=\"-492.8\" font-family=\"Times,serif\" font-size=\"14.00\">root</text>\n</g>\n<!-- • (1) -->\n<g id=\"node3\" class=\"node\">\n<title>• (1)</title>\n<ellipse fill=\"none\" stroke=\"black\" cx=\"27\" cy=\"-366\" rx=\"27\" ry=\"18\"/>\n<text text-anchor=\"middle\" x=\"27\" y=\"-362.3\" font-family=\"Times,serif\" font-size=\"14.00\">• (1)</text>\n</g>\n<!-- Лига (2)&#45;&gt;• (1) -->\n<g id=\"edge2\" class=\"edge\">\n<title>Лига (2)&#45;&gt;• (1)</title>\n<path fill=\"none\" stroke=\"black\" d=\"M192.04,-439.89C160.25,-426.52 107.78,-404.2 63,-384 61.2,-383.19 59.36,-382.35 57.51,-381.5\"/>\n<polygon fill=\"black\" stroke=\"black\" points=\"58.81,-378.24 48.26,-377.19 55.85,-384.59 58.81,-378.24\"/>\n<text text-anchor=\"middle\" x=\"152.5\" y=\"-405.8\" font-family=\"Times,serif\" font-size=\"14.00\">punct</text>\n</g>\n<!-- чемпионов (3) -->\n<g id=\"node4\" class=\"node\">\n<title>чемпионов (3)</title>\n<ellipse fill=\"none\" stroke=\"black\" cx=\"138\" cy=\"-366\" rx=\"65.79\" ry=\"18\"/>\n<text text-anchor=\"middle\" x=\"138\" y=\"-362.3\" font-family=\"Times,serif\" font-size=\"14.00\">чемпионов (3)</text>\n</g>\n<!-- Лига (2)&#45;&gt;чемпионов (3) -->\n<g id=\"edge3\" class=\"edge\">\n<title>Лига (2)&#45;&gt;чемпионов (3)</title>\n<path fill=\"none\" stroke=\"black\" d=\"M205.39,-436.01C192.91,-423.24 175.24,-405.14 161.12,-390.68\"/>\n<polygon fill=\"black\" stroke=\"black\" points=\"163.6,-388.21 154.11,-383.5 158.59,-393.1 163.6,-388.21\"/>\n<text text-anchor=\"middle\" x=\"201\" y=\"-405.8\" font-family=\"Times,serif\" font-size=\"14.00\">nmod</text>\n</g>\n<g id=\"node5\" class=\"node\">\n<title></title>\n<ellipse fill=\"none\" stroke=\"black\" cx=\"249\" cy=\"-366\" rx=\"27\" ry=\"18\"/>\n</g>\n<!-- Лига (2)&#45;&gt; -->\n<g id=\"edge4\" class=\"edge\">\n<title>Лига (2)&#45;&gt;: (9)</title>\n<path fill=\"none\" stroke=\"black\" d=\"M226.67,-434.8C230.56,-422.97 235.81,-407.03 240.24,-393.58\"/>\n<polygon fill=\"black\" stroke=\"black\" points=\"243.63,-394.48 243.44,-383.89 236.98,-392.29 243.63,-394.48\"/>\n<text text-anchor=\"middle\" x=\"252.5\" y=\"-405.8\" font-family=\"Times,serif\" font-size=\"14.00\">punct</text>\n</g>\n<!-- 3 (10) -->\n<g id=\"node6\" class=\"node\">\n<title>3 (10)</title>\n<ellipse fill=\"none\" stroke=\"black\" cx=\"326\" cy=\"-366\" rx=\"32.49\" ry=\"18\"/>\n<text text-anchor=\"middle\" x=\"326\" y=\"-362.3\" font-family=\"Times,serif\" font-size=\"14.00\">3 (10)</text>\n</g>\n<!-- Лига (2)&#45;&gt;3 (10) -->\n<g id=\"edge5\" class=\"edge\">\n<title>Лига (2)&#45;&gt;3 (10)</title>\n<path fill=\"none\" stroke=\"black\" d=\"M243.34,-437.69C252.45,-431.6 262.94,-424.24 272,-417 282.76,-408.4 294.04,-398.18 303.48,-389.22\"/>\n<polygon fill=\"black\" stroke=\"black\" points=\"306.15,-391.51 310.94,-382.06 301.3,-386.46 306.15,-391.51\"/>\n<text text-anchor=\"middle\" x=\"313\" y=\"-405.8\" font-family=\"Times,serif\" font-size=\"14.00\">nummod</text>\n</g>\n<!-- УЕФА (4) -->\n<g id=\"node7\" class=\"node\">\n<title>УЕФА (4)</title>\n<ellipse fill=\"none\" stroke=\"black\" cx=\"138\" cy=\"-279\" rx=\"48.19\" ry=\"18\"/>\n<text text-anchor=\"middle\" x=\"138\" y=\"-275.3\" font-family=\"Times,serif\" font-size=\"14.00\">УЕФА (4)</text>\n</g>\n<!-- чемпионов (3)&#45;&gt;УЕФА (4) -->\n<g id=\"edge6\" class=\"edge\">\n<title>чемпионов (3)&#45;&gt;УЕФА (4)</title>\n<path fill=\"none\" stroke=\"black\" d=\"M138,-347.8C138,-336.16 138,-320.55 138,-307.24\"/>\n<polygon fill=\"black\" stroke=\"black\" points=\"141.5,-307.18 138,-297.18 134.5,-307.18 141.5,-307.18\"/>\n<text text-anchor=\"middle\" x=\"154\" y=\"-318.8\" font-family=\"Times,serif\" font-size=\"14.00\">nmod</text>\n</g>\n<!-- Кубок (6) -->\n<g id=\"node8\" class=\"node\">\n<title>Кубок (6)</title>\n<ellipse fill=\"none\" stroke=\"black\" cx=\"138\" cy=\"-192\" rx=\"46.29\" ry=\"18\"/>\n<text text-anchor=\"middle\" x=\"138\" y=\"-188.3\" font-family=\"Times,serif\" font-size=\"14.00\">Кубок (6)</text>\n</g>\n<!-- УЕФА (4)&#45;&gt;Кубок (6) -->\n<g id=\"edge7\" class=\"edge\">\n<title>УЕФА (4)&#45;&gt;Кубок (6)</title>\n<path fill=\"none\" stroke=\"black\" d=\"M138,-260.8C138,-249.16 138,-233.55 138,-220.24\"/>\n<polygon fill=\"black\" stroke=\"black\" points=\"141.5,-220.18 138,-210.18 134.5,-220.18 141.5,-220.18\"/>\n<text text-anchor=\"middle\" x=\"154\" y=\"-231.8\" font-family=\"Times,serif\" font-size=\"14.00\">nmod</text>\n</g>\n<!-- / (5) -->\n<g id=\"node9\" class=\"node\">\n<title>/ (5)</title>\n<ellipse fill=\"none\" stroke=\"black\" cx=\"111\" cy=\"-105\" rx=\"27\" ry=\"18\"/>\n<text text-anchor=\"middle\" x=\"111\" y=\"-101.3\" font-family=\"Times,serif\" font-size=\"14.00\">/ (5)</text>\n</g>\n<!-- Кубок (6)&#45;&gt;/ (5) -->\n<g id=\"edge8\" class=\"edge\">\n<title>Кубок (6)&#45;&gt;/ (5)</title>\n<path fill=\"none\" stroke=\"black\" d=\"M132.54,-173.8C128.78,-161.97 123.72,-146.03 119.44,-132.58\"/>\n<polygon fill=\"black\" stroke=\"black\" points=\"122.73,-131.36 116.36,-122.89 116.06,-133.48 122.73,-131.36\"/>\n<text text-anchor=\"middle\" x=\"142.5\" y=\"-144.8\" font-family=\"Times,serif\" font-size=\"14.00\">punct</text>\n</g>\n<!-- чемпионов (8) -->\n<g id=\"node10\" class=\"node\">\n<title>чемпионов (8)</title>\n<ellipse fill=\"none\" stroke=\"black\" cx=\"222\" cy=\"-105\" rx=\"65.79\" ry=\"18\"/>\n<text text-anchor=\"middle\" x=\"222\" y=\"-101.3\" font-family=\"Times,serif\" font-size=\"14.00\">чемпионов (8)</text>\n</g>\n<!-- Кубок (6)&#45;&gt;чемпионов (8) -->\n<g id=\"edge9\" class=\"edge\">\n<title>Кубок (6)&#45;&gt;чемпионов (8)</title>\n<path fill=\"none\" stroke=\"black\" d=\"M153.8,-175.01C166.43,-162.24 184.31,-144.14 198.6,-129.68\"/>\n<polygon fill=\"black\" stroke=\"black\" points=\"201.16,-132.07 205.7,-122.5 196.18,-127.15 201.16,-132.07\"/>\n<text text-anchor=\"middle\" x=\"202\" y=\"-144.8\" font-family=\"Times,serif\" font-size=\"14.00\">nmod</text>\n</g>\n<!-- европейских (7) -->\n<g id=\"node11\" class=\"node\">\n<title>европейских (7)</title>\n<ellipse fill=\"none\" stroke=\"black\" cx=\"222\" cy=\"-18\" rx=\"71.49\" ry=\"18\"/>\n<text text-anchor=\"middle\" x=\"222\" y=\"-14.3\" font-family=\"Times,serif\" font-size=\"14.00\">европейских (7)</text>\n</g>\n<!-- чемпионов (8)&#45;&gt;европейских (7) -->\n<g id=\"edge10\" class=\"edge\">\n<title>чемпионов (8)&#45;&gt;европейских (7)</title>\n<path fill=\"none\" stroke=\"black\" d=\"M222,-86.8C222,-75.16 222,-59.55 222,-46.24\"/>\n<polygon fill=\"black\" stroke=\"black\" points=\"225.5,-46.18 222,-36.18 218.5,-46.18 225.5,-46.18\"/>\n<text text-anchor=\"middle\" x=\"237.5\" y=\"-57.8\" font-family=\"Times,serif\" font-size=\"14.00\">amod</text>\n</g>\n</g>\n</svg>\n"
          },
          "metadata": {},
          "execution_count": 78
        }
      ],
      "source": [
        "draw_tree(str_tree)"
      ]
    },
    {
      "cell_type": "code",
      "execution_count": 79,
      "metadata": {
        "colab": {
          "base_uri": "https://localhost:8080/",
          "height": 677
        },
        "id": "a_8Oxw6Bqbuj",
        "outputId": "a93c5f34-583a-4e17-b189-0ff9f1603523"
      },
      "outputs": [
        {
          "output_type": "stream",
          "name": "stderr",
          "text": [
            "Warning: node , port  (9) unrecognized\n"
          ]
        },
        {
          "output_type": "execute_result",
          "data": {
            "text/plain": [
              "<graphviz.dot.Digraph at 0x7f0c42547580>"
            ],
            "image/svg+xml": "<?xml version=\"1.0\" encoding=\"UTF-8\" standalone=\"no\"?>\n<!DOCTYPE svg PUBLIC \"-//W3C//DTD SVG 1.1//EN\"\n \"http://www.w3.org/Graphics/SVG/1.1/DTD/svg11.dtd\">\n<!-- Generated by graphviz version 2.43.0 (0)\n -->\n<!-- Title: %3 Pages: 1 -->\n<svg width=\"439pt\" height=\"479pt\"\n viewBox=\"0.00 0.00 439.49 479.00\" xmlns=\"http://www.w3.org/2000/svg\" xmlns:xlink=\"http://www.w3.org/1999/xlink\">\n<g id=\"graph0\" class=\"graph\" transform=\"scale(1 1) rotate(0) translate(4 475)\">\n<title>%3</title>\n<polygon fill=\"white\" stroke=\"transparent\" points=\"-4,4 -4,-475 435.49,-475 435.49,4 -4,4\"/>\n<!--  (0) -->\n<g id=\"node1\" class=\"node\">\n<title> (0)</title>\n<ellipse fill=\"none\" stroke=\"black\" cx=\"219\" cy=\"-453\" rx=\"27\" ry=\"18\"/>\n<text text-anchor=\"middle\" x=\"219\" y=\"-449.3\" font-family=\"Times,serif\" font-size=\"14.00\"> (0)</text>\n</g>\n<!-- 3 (10) -->\n<g id=\"node2\" class=\"node\">\n<title>3 (10)</title>\n<ellipse fill=\"none\" stroke=\"black\" cx=\"219\" cy=\"-366\" rx=\"32.49\" ry=\"18\"/>\n<text text-anchor=\"middle\" x=\"219\" y=\"-362.3\" font-family=\"Times,serif\" font-size=\"14.00\">3 (10)</text>\n</g>\n<!--  (0)&#45;&gt;3 (10) -->\n<g id=\"edge1\" class=\"edge\">\n<title> (0)&#45;&gt;3 (10)</title>\n<path fill=\"none\" stroke=\"black\" d=\"M219,-434.8C219,-423.16 219,-407.55 219,-394.24\"/>\n<polygon fill=\"black\" stroke=\"black\" points=\"222.5,-394.18 219,-384.18 215.5,-394.18 222.5,-394.18\"/>\n<text text-anchor=\"middle\" x=\"230\" y=\"-405.8\" font-family=\"Times,serif\" font-size=\"14.00\">root</text>\n</g>\n<!-- Лига (2) -->\n<g id=\"node3\" class=\"node\">\n<title>Лига (2)</title>\n<ellipse fill=\"none\" stroke=\"black\" cx=\"219\" cy=\"-279\" rx=\"42.49\" ry=\"18\"/>\n<text text-anchor=\"middle\" x=\"219\" y=\"-275.3\" font-family=\"Times,serif\" font-size=\"14.00\">Лига (2)</text>\n</g>\n<!-- 3 (10)&#45;&gt;Лига (2) -->\n<g id=\"edge2\" class=\"edge\">\n<title>3 (10)&#45;&gt;Лига (2)</title>\n<path fill=\"none\" stroke=\"black\" d=\"M219,-347.8C219,-336.16 219,-320.55 219,-307.24\"/>\n<polygon fill=\"black\" stroke=\"black\" points=\"222.5,-307.18 219,-297.18 215.5,-307.18 222.5,-307.18\"/>\n<text text-anchor=\"middle\" x=\"234\" y=\"-318.8\" font-family=\"Times,serif\" font-size=\"14.00\">nsubj</text>\n</g>\n<!-- • (1) -->\n<g id=\"node4\" class=\"node\">\n<title>• (1)</title>\n<ellipse fill=\"none\" stroke=\"black\" cx=\"27\" cy=\"-192\" rx=\"27\" ry=\"18\"/>\n<text text-anchor=\"middle\" x=\"27\" y=\"-188.3\" font-family=\"Times,serif\" font-size=\"14.00\">• (1)</text>\n</g>\n<!-- Лига (2)&#45;&gt;• (1) -->\n<g id=\"edge3\" class=\"edge\">\n<title>Лига (2)&#45;&gt;• (1)</title>\n<path fill=\"none\" stroke=\"black\" d=\"M190.13,-265.73C158.73,-252.3 107.12,-230.03 63,-210 61.21,-209.19 59.37,-208.34 57.51,-207.49\"/>\n<polygon fill=\"black\" stroke=\"black\" points=\"58.81,-204.23 48.27,-203.17 55.85,-210.57 58.81,-204.23\"/>\n<text text-anchor=\"middle\" x=\"151.5\" y=\"-231.8\" font-family=\"Times,serif\" font-size=\"14.00\">punct</text>\n</g>\n<!-- чемпионов (3) -->\n<g id=\"node5\" class=\"node\">\n<title>чемпионов (3)</title>\n<ellipse fill=\"none\" stroke=\"black\" cx=\"138\" cy=\"-192\" rx=\"65.79\" ry=\"18\"/>\n<text text-anchor=\"middle\" x=\"138\" y=\"-188.3\" font-family=\"Times,serif\" font-size=\"14.00\">чемпионов (3)</text>\n</g>\n<!-- Лига (2)&#45;&gt;чемпионов (3) -->\n<g id=\"edge4\" class=\"edge\">\n<title>Лига (2)&#45;&gt;чемпионов (3)</title>\n<path fill=\"none\" stroke=\"black\" d=\"M203.76,-262.01C191.7,-249.35 174.66,-231.47 160.94,-217.08\"/>\n<polygon fill=\"black\" stroke=\"black\" points=\"163.15,-214.32 153.72,-209.5 158.08,-219.15 163.15,-214.32\"/>\n<text text-anchor=\"middle\" x=\"200\" y=\"-231.8\" font-family=\"Times,serif\" font-size=\"14.00\">nmod</text>\n</g>\n<!-- Кубок (6) -->\n<g id=\"node6\" class=\"node\">\n<title>Кубок (6)</title>\n<ellipse fill=\"none\" stroke=\"black\" cx=\"268\" cy=\"-192\" rx=\"46.29\" ry=\"18\"/>\n<text text-anchor=\"middle\" x=\"268\" y=\"-188.3\" font-family=\"Times,serif\" font-size=\"14.00\">Кубок (6)</text>\n</g>\n<!-- Лига (2)&#45;&gt;Кубок (6) -->\n<g id=\"edge5\" class=\"edge\">\n<title>Лига (2)&#45;&gt;Кубок (6)</title>\n<path fill=\"none\" stroke=\"black\" d=\"M228.68,-261.21C235.66,-249.1 245.21,-232.53 253.15,-218.76\"/>\n<polygon fill=\"black\" stroke=\"black\" points=\"256.38,-220.17 258.34,-209.76 250.31,-216.67 256.38,-220.17\"/>\n<text text-anchor=\"middle\" x=\"263\" y=\"-231.8\" font-family=\"Times,serif\" font-size=\"14.00\">nmod</text>\n</g>\n<g id=\"node7\" class=\"node\">\n<title></title>\n<ellipse fill=\"none\" stroke=\"black\" cx=\"359\" cy=\"-192\" rx=\"27\" ry=\"18\"/>\n</g>\n<!-- Лига (2)&#45;&gt; -->\n<g id=\"edge6\" class=\"edge\">\n<title>Лига (2)&#45;&gt;: (9)</title>\n<path fill=\"none\" stroke=\"black\" d=\"M244.81,-264.51C256.58,-258.19 270.63,-250.44 283,-243 299.7,-232.96 317.96,-220.98 332.39,-211.27\"/>\n<polygon fill=\"black\" stroke=\"black\" points=\"334.52,-214.05 340.84,-205.55 330.6,-208.26 334.52,-214.05\"/>\n<text text-anchor=\"middle\" x=\"322.5\" y=\"-231.8\" font-family=\"Times,serif\" font-size=\"14.00\">punct</text>\n</g>\n<!-- УЕФА (4) -->\n<g id=\"node11\" class=\"node\">\n<title>УЕФА (4)</title>\n<ellipse fill=\"none\" stroke=\"black\" cx=\"138\" cy=\"-105\" rx=\"48.19\" ry=\"18\"/>\n<text text-anchor=\"middle\" x=\"138\" y=\"-101.3\" font-family=\"Times,serif\" font-size=\"14.00\">УЕФА (4)</text>\n</g>\n<!-- чемпионов (3)&#45;&gt;УЕФА (4) -->\n<g id=\"edge10\" class=\"edge\">\n<title>чемпионов (3)&#45;&gt;УЕФА (4)</title>\n<path fill=\"none\" stroke=\"black\" d=\"M138,-173.8C138,-162.16 138,-146.55 138,-133.24\"/>\n<polygon fill=\"black\" stroke=\"black\" points=\"141.5,-133.18 138,-123.18 134.5,-133.18 141.5,-133.18\"/>\n<text text-anchor=\"middle\" x=\"154\" y=\"-144.8\" font-family=\"Times,serif\" font-size=\"14.00\">nmod</text>\n</g>\n<!-- / (5) -->\n<g id=\"node8\" class=\"node\">\n<title>/ (5)</title>\n<ellipse fill=\"none\" stroke=\"black\" cx=\"249\" cy=\"-105\" rx=\"27\" ry=\"18\"/>\n<text text-anchor=\"middle\" x=\"249\" y=\"-101.3\" font-family=\"Times,serif\" font-size=\"14.00\">/ (5)</text>\n</g>\n<!-- Кубок (6)&#45;&gt;/ (5) -->\n<g id=\"edge7\" class=\"edge\">\n<title>Кубок (6)&#45;&gt;/ (5)</title>\n<path fill=\"none\" stroke=\"black\" d=\"M264.16,-173.8C261.54,-162.09 258.02,-146.34 255.03,-132.97\"/>\n<polygon fill=\"black\" stroke=\"black\" points=\"258.37,-131.88 252.77,-122.89 251.54,-133.41 258.37,-131.88\"/>\n<text text-anchor=\"middle\" x=\"272\" y=\"-144.8\" font-family=\"Times,serif\" font-size=\"14.00\">case</text>\n</g>\n<!-- чемпионов (8) -->\n<g id=\"node9\" class=\"node\">\n<title>чемпионов (8)</title>\n<ellipse fill=\"none\" stroke=\"black\" cx=\"360\" cy=\"-105\" rx=\"65.79\" ry=\"18\"/>\n<text text-anchor=\"middle\" x=\"360\" y=\"-101.3\" font-family=\"Times,serif\" font-size=\"14.00\">чемпионов (8)</text>\n</g>\n<!-- Кубок (6)&#45;&gt;чемпионов (8) -->\n<g id=\"edge8\" class=\"edge\">\n<title>Кубок (6)&#45;&gt;чемпионов (8)</title>\n<path fill=\"none\" stroke=\"black\" d=\"M285.3,-175.01C299.13,-162.24 318.72,-144.14 334.37,-129.68\"/>\n<polygon fill=\"black\" stroke=\"black\" points=\"337.18,-131.85 342.15,-122.5 332.43,-126.71 337.18,-131.85\"/>\n<text text-anchor=\"middle\" x=\"336\" y=\"-144.8\" font-family=\"Times,serif\" font-size=\"14.00\">nmod</text>\n</g>\n<!-- европейских (7) -->\n<g id=\"node10\" class=\"node\">\n<title>европейских (7)</title>\n<ellipse fill=\"none\" stroke=\"black\" cx=\"360\" cy=\"-18\" rx=\"71.49\" ry=\"18\"/>\n<text text-anchor=\"middle\" x=\"360\" y=\"-14.3\" font-family=\"Times,serif\" font-size=\"14.00\">европейских (7)</text>\n</g>\n<!-- чемпионов (8)&#45;&gt;европейских (7) -->\n<g id=\"edge9\" class=\"edge\">\n<title>чемпионов (8)&#45;&gt;европейских (7)</title>\n<path fill=\"none\" stroke=\"black\" d=\"M360,-86.8C360,-75.16 360,-59.55 360,-46.24\"/>\n<polygon fill=\"black\" stroke=\"black\" points=\"363.5,-46.18 360,-36.18 356.5,-46.18 363.5,-46.18\"/>\n<text text-anchor=\"middle\" x=\"375.5\" y=\"-57.8\" font-family=\"Times,serif\" font-size=\"14.00\">amod</text>\n</g>\n</g>\n</svg>\n"
          },
          "metadata": {},
          "execution_count": 79
        }
      ],
      "source": [
        "draw_tree(taiga_tree)"
      ]
    },
    {
      "cell_type": "markdown",
      "metadata": {
        "id": "jU8n4urmqbul"
      },
      "source": [
        "Теперь можно переходить к расчету метрик"
      ]
    },
    {
      "cell_type": "markdown",
      "metadata": {
        "id": "VI1qm9bGqbuo"
      },
      "source": [
        "## Вычисление LAS и UAS\n",
        "\n",
        "Для этого набираем множества всех рёбер с метками и без и смотрим на размеры пересечений."
      ]
    },
    {
      "cell_type": "code",
      "execution_count": 80,
      "metadata": {
        "id": "fEetAmXx6wAM"
      },
      "outputs": [],
      "source": [
        "def edges_sets(tree):\n",
        "  \"\"\" Reading edges encoded as strings \"\"\"\n",
        "\n",
        "  edges_labeled = []\n",
        "  edges_unlabeled = []\n",
        "  queue = [Root(tree)]\n",
        "  \n",
        "  while len(queue) > 0:\n",
        "    head = queue.pop()\n",
        "    head_label = head.token[\"form\"] + \" (%d)\" % head.token[\"id\"]\n",
        "    queue.extend(head.children)\n",
        "    \n",
        "    for c in head.children:\n",
        "      c_label = c.token[\"form\"] + \" (%d)\" %  c.token[\"id\"]\n",
        "      edges_unlabeled.append((head_label, c_label))\n",
        "      edges_labeled.append((head_label, c_label, c.token[\"deprel\"]))\n",
        "  \n",
        "  return set(edges_labeled), set(edges_unlabeled)"
      ]
    },
    {
      "cell_type": "code",
      "execution_count": 81,
      "metadata": {
        "colab": {
          "base_uri": "https://localhost:8080/",
          "height": 35
        },
        "id": "SCT4HgK_i6cU",
        "outputId": "9dc6e13f-f4b0-4c28-89d9-097b47434659"
      },
      "outputs": [
        {
          "output_type": "execute_result",
          "data": {
            "text/plain": [
              "'LAS: 0.6000 UAS: 0.7000'"
            ],
            "application/vnd.google.colaboratory.intrinsic+json": {
              "type": "string"
            }
          },
          "metadata": {},
          "execution_count": 81
        }
      ],
      "source": [
        "def accuracy(gold, pred):\n",
        "  gold_labeled, gold_unlabeled = edges_sets(gold)\n",
        "  pred_labeled, pred_unlabeled = edges_sets(pred)\n",
        "\n",
        "  return len(gold_labeled.intersection(pred_labeled)) / len(gold_labeled), \\\n",
        "          len(gold_unlabeled.intersection(pred_unlabeled)) / len(gold_unlabeled)\n",
        "\n",
        "LAS, UAS = accuracy(str_tree, taiga_tree)\n",
        "\"LAS: %.4f UAS: %.4f\" % (LAS, UAS)"
      ]
    },
    {
      "cell_type": "markdown",
      "metadata": {
        "id": "XPsQ9gBtrKVL"
      },
      "source": [
        "Можно заметить, что в первом случае слово <code>башмачки</code> зависит от слова <code>порвались</code>, а во втором -- от слова <code>скалы</code>.\n",
        "Отдельно хотим напомнить, что таким образом корректно сравнивать парсеры только в том случае, когда токензация полностью совпадает."
      ]
    },
    {
      "cell_type": "markdown",
      "metadata": {
        "id": "n08jVsZwu_5R"
      },
      "source": [
        "## Вычисление глубины дерева"
      ]
    },
    {
      "cell_type": "markdown",
      "metadata": {
        "id": "B9LoRI_Hu_5R"
      },
      "source": [
        "Вычислим глубину дерева, например, для разбора модели taiga (ребро root не учитывается).\n",
        "\n",
        "Для этого также можно использовать, например, обход в ширину."
      ]
    },
    {
      "cell_type": "code",
      "execution_count": 82,
      "metadata": {
        "colab": {
          "base_uri": "https://localhost:8080/"
        },
        "id": "_WKDvvPxi6cX",
        "outputId": "65a3a281-d35f-48b5-e38a-5d120c43828b"
      },
      "outputs": [
        {
          "output_type": "stream",
          "name": "stdout",
          "text": [
            "Глубина дерева taiga:  4\n",
            "Глубина дерева str:  5\n"
          ]
        }
      ],
      "source": [
        "depth = 0\n",
        "queue = [(taiga_tree, depth)]\n",
        "\n",
        "while len(queue) > 0:\n",
        "    head, depth = queue.pop(0)\n",
        "    queue.extend([(c, depth + 1) for c in head.children])\n",
        "    #print(\"checking\", head.token[\"form\"])\n",
        "    \n",
        "print(\"Глубина дерева taiga: \", depth)\n",
        "\n",
        "\n",
        "depth = 0\n",
        "queue = [(str_tree, depth)]\n",
        "\n",
        "while len(queue) > 0:\n",
        "    head, depth = queue.pop(0)\n",
        "    queue.extend([(c, depth + 1) for c in head.children])\n",
        "    #print(\"checking\", head.token[\"form\"])\n",
        "print(\"Глубина дерева str: \", depth)"
      ]
    },
    {
      "cell_type": "code",
      "execution_count": null,
      "metadata": {
        "id": "45zc-ojN5uph"
      },
      "outputs": [],
      "source": []
    }
  ],
  "metadata": {
    "colab": {
      "provenance": [],
      "toc_visible": true
    },
    "kernelspec": {
      "display_name": "Python 3",
      "language": "python",
      "name": "python3"
    },
    "language_info": {
      "codemirror_mode": {
        "name": "ipython",
        "version": 3
      },
      "file_extension": ".py",
      "mimetype": "text/x-python",
      "name": "python",
      "nbconvert_exporter": "python",
      "pygments_lexer": "ipython3",
      "version": "3.7.6"
    }
  },
  "nbformat": 4,
  "nbformat_minor": 0
}